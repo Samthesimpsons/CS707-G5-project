{
 "cells": [
  {
   "cell_type": "code",
   "execution_count": null,
   "id": "d9b70b18-ced2-4f82-a003-a0de5e828f62",
   "metadata": {},
   "outputs": [],
   "source": [
    "# !pip3 install qwen-vl-utils torch torchvision jupyter gradio accelerate"
   ]
  },
  {
   "cell_type": "code",
   "execution_count": 1,
   "id": "d77817d4-000d-4233-9e05-accd5b7c8783",
   "metadata": {},
   "outputs": [],
   "source": [
    "import torch\n",
    "\n",
    "from transformers import Qwen2_5_VLForConditionalGeneration, AutoTokenizer, AutoProcessor\n",
    "from qwen_vl_utils import process_vision_info"
   ]
  },
  {
   "cell_type": "markdown",
   "id": "1cd41b9f-7f3e-4036-bd83-bcdd468fa783",
   "metadata": {},
   "source": [
    "##### Load the Model"
   ]
  },
  {
   "cell_type": "code",
   "execution_count": 21,
   "id": "e4b1bae9-bb87-4e5b-900f-f9e13f261e5f",
   "metadata": {},
   "outputs": [],
   "source": [
    "MODEL_PATH = \"/common/public/Qwen2.5-VL/Qwen2.5-VL-7B-Instruct\""
   ]
  },
  {
   "cell_type": "code",
   "execution_count": 23,
   "id": "bc061807-a6b0-4349-b62c-147052ebddf5",
   "metadata": {},
   "outputs": [
    {
     "data": {
      "application/vnd.jupyter.widget-view+json": {
       "model_id": "12a3525cfee9476ab7a9a56fc2339fd7",
       "version_major": 2,
       "version_minor": 0
      },
      "text/plain": [
       "Loading checkpoint shards:   0%|          | 0/5 [00:00<?, ?it/s]"
      ]
     },
     "metadata": {},
     "output_type": "display_data"
    }
   ],
   "source": [
    "# default: Load the model on the available device(s)\n",
    "model = Qwen2_5_VLForConditionalGeneration.from_pretrained(\n",
    "    MODEL_PATH, dtype=torch.bfloat16, device_map=\"auto\"\n",
    ")\n",
    "\n",
    "# We recommend enabling flash_attention_2 for better acceleration and memory saving, especially in multi-image and video scenarios.\n",
    "# model = Qwen2_5_VLForConditionalGeneration.from_pretrained(\n",
    "#     MODEL_PATH,\n",
    "#     dtype=torch.bfloat16,\n",
    "#     attn_implementation=\"flash_attention_2\",\n",
    "#     device_map=\"auto\",\n",
    "# )\n"
   ]
  },
  {
   "cell_type": "markdown",
   "id": "531f1753-8c29-4e3a-a3da-74a07aad9b4a",
   "metadata": {},
   "source": [
    "##### Prepare Inputs for Inference\n",
    "\n",
    "- The default range for the number of visual tokens per image in the model is 4-16384.\n",
    "- You can set min_pixels and max_pixels according to your needs, such as a token range of 256-1280, to balance performance and cost.\n",
    "- min_pixels = 256*28*28\n",
    "- max_pixels = 1280*28*28\n",
    "- processor = AutoProcessor.from_pretrained(MODEL_PATH, min_pixels=min_pixels, max_pixels=max_pixels)"
   ]
  },
  {
   "cell_type": "code",
   "execution_count": 25,
   "id": "2e1c9db3-7c44-4c97-a65e-3a031617fddd",
   "metadata": {},
   "outputs": [],
   "source": [
    "# default processer\n",
    "min_pixels = 256*28*28\n",
    "max_pixels = 1280*28*28\n",
    "processor = AutoProcessor.from_pretrained(MODEL_PATH)"
   ]
  },
  {
   "cell_type": "markdown",
   "id": "1962fc90-dc8a-455e-b17d-bbb7c2e0c7f0",
   "metadata": {},
   "source": [
    "##### Prepare Inputs for Inference as LLM Message"
   ]
  },
  {
   "cell_type": "code",
   "execution_count": 29,
   "id": "bc020103-14ce-4afb-ade0-254870d2d246",
   "metadata": {},
   "outputs": [],
   "source": [
    "INPUT_PROMPT = \"Describe the start of the video\"\n",
    "IMAGE_PATH = r\"./src/test_files/images.jpeg\"\n",
    "VIDEO_PATH = r\"./src/test_files/demo_video_pixabay.mp4\""
   ]
  },
  {
   "cell_type": "code",
   "execution_count": 27,
   "id": "c8d5ce4c-00da-49cc-82cf-3b0634529632",
   "metadata": {},
   "outputs": [],
   "source": [
    "### IMAGES\n",
    "messages = [\n",
    "    {\n",
    "        \"role\": \"user\",\n",
    "        \"content\": [\n",
    "            {\n",
    "                \"type\": \"image\",\n",
    "                \"image\": IMAGE_PATH,\n",
    "            },\n",
    "            {\"type\": \"text\", \"text\": \"Describe this image.\"},\n",
    "        ],\n",
    "    }\n",
    "]\n",
    "\n",
    "# Preparation for inference\n",
    "prompt_text = processor.apply_chat_template(messages, tokenize=False, add_generation_prompt=True)\n",
    "image_inputs, video_inputs = process_vision_info(messages, )\n",
    "# Pass inputs to processor\n",
    "inputs = processor(\n",
    "    text=[prompt_text],\n",
    "    images=image_inputs,\n",
    "    videos=video_inputs,\n",
    "    padding=True,\n",
    "    return_tensors=\"pt\",\n",
    ")\n",
    "inputs = inputs.to(\"cuda\")"
   ]
  },
  {
   "cell_type": "code",
   "execution_count": 41,
   "id": "83667130-e435-4170-a3ae-5e6600eaa23a",
   "metadata": {},
   "outputs": [
    {
     "name": "stdout",
     "output_type": "stream",
     "text": [
      "{'do_sample_frames': False, 'fps': [7.904183728359553]}\n"
     ]
    }
   ],
   "source": [
    "### VIDEO\n",
    "FPS = 8.0\n",
    "\n",
    "messages = [\n",
    "    {\n",
    "        \"role\": \"user\",\n",
    "        \"content\": [\n",
    "            {\n",
    "                \"type\": \"video\",\n",
    "                \"video\": VIDEO_PATH,\n",
    "                \"max_pixels\": 360 * 420,\n",
    "                \"fps\": FPS,\n",
    "            },\n",
    "            {\n",
    "                \"type\": \"text\", \n",
    "                \"text\": \"Select the correct answer to what is happening in this video. A) The video shows two baboons in a zoo enclosure\\nB) There are two birds in a cage\"},\n",
    "        ],\n",
    "    }\n",
    "]\n",
    "\n",
    "# Preparation for inference\n",
    "prompt_text = processor.apply_chat_template(messages, tokenize=False, add_generation_prompt=True)\n",
    "image_inputs, video_inputs, video_kwargs = process_vision_info(messages, return_video_kwargs=True)\n",
    "print(video_kwargs)\n",
    "\n",
    "inputs = processor(\n",
    "    text=[prompt_text],\n",
    "    images=image_inputs,\n",
    "    videos=video_inputs,\n",
    "    # fps=FPS,\n",
    "    padding=True,\n",
    "    return_tensors=\"pt\",\n",
    "    **video_kwargs,\n",
    ")\n",
    "inputs = inputs.to(\"cuda\")"
   ]
  },
  {
   "cell_type": "markdown",
   "id": "e939701b-2446-423b-9f70-491270f326fe",
   "metadata": {},
   "source": [
    "##### Run Inference"
   ]
  },
  {
   "cell_type": "code",
   "execution_count": 42,
   "id": "8b013bb4-5065-4b11-af60-5bfd69f1dd38",
   "metadata": {},
   "outputs": [
    {
     "name": "stdout",
     "output_type": "stream",
     "text": [
      "['A) The video shows two baboons in a zoo enclosure.']\n"
     ]
    }
   ],
   "source": [
    "# Inference: Generation of the output\n",
    "generated_ids = model.generate(**inputs, max_new_tokens=128)\n",
    "generated_ids_trimmed = [\n",
    "    out_ids[len(in_ids) :] for in_ids, out_ids in zip(inputs.input_ids, generated_ids)\n",
    "]\n",
    "output_text = processor.batch_decode(\n",
    "    generated_ids_trimmed, skip_special_tokens=True, clean_up_tokenization_spaces=False\n",
    ")\n",
    "print(output_text)"
   ]
  },
  {
   "cell_type": "code",
   "execution_count": null,
   "id": "a67299a1-352b-4f6c-a7ed-492055b5b6b7",
   "metadata": {},
   "outputs": [],
   "source": []
  },
  {
   "cell_type": "code",
   "execution_count": null,
   "id": "be2829ee-dda0-414d-a26f-0f90801569aa",
   "metadata": {},
   "outputs": [],
   "source": []
  }
 ],
 "metadata": {
  "kernelspec": {
   "display_name": "Python 3 (ipykernel)",
   "language": "python",
   "name": "python3"
  },
  "language_info": {
   "codemirror_mode": {
    "name": "ipython",
    "version": 3
   },
   "file_extension": ".py",
   "mimetype": "text/x-python",
   "name": "python",
   "nbconvert_exporter": "python",
   "pygments_lexer": "ipython3",
   "version": "3.11.11"
  }
 },
 "nbformat": 4,
 "nbformat_minor": 5
}
